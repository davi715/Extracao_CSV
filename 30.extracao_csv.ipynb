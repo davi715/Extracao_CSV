{
 "cells": [
  {
   "cell_type": "code",
   "execution_count": null,
   "metadata": {},
   "outputs": [],
   "source": [
    "# Importando as bibliotecas necessárias para automação\n",
    "\n",
    "import pyodbc\n",
    "import pandas as pd\n",
    "import schedule\n",
    "import time\n",
    "from datetime import datetime\n",
    "\n",
    "# Função para extrair dados e salvar em CSV\n",
    "def extract_and_save():\n",
    "    try:\n",
    "        # Configurar a conexão com o SQL Server\n",
    "        conn = pyodbc.connect(\n",
    "            \"DRIVER={ODBC Driver 17 for SQL Server};\"\n",
    "            \"SERVER=serv_pessoal;\"  \n",
    "            \"DATABASE=Fact_BD;\"  \n",
    "            \"Trusted_Connection=yes;\" )\n",
    "        \n",
    "        # Query que será salva em CSV \n",
    "        query = \"\"\"\n",
    "        SELECT * FROM Fact_BD.Clientes where cast(dt_referencia as date) = cast(now() as date)\n",
    "        \"\"\"\n",
    "        \n",
    "        # Executa a query e converte o resultado para um DataFrame\n",
    "        df = pd.read_sql(query, conn)\n",
    "        \n",
    "        # Define o local e o nome do arquivo CSV\n",
    "        file_name = f\"C:\\\\Users\\\\SilvaDavi(Bip)\\\\OneDrive\\\\automacao\\\\dados_{datetime.now().strftime('%Y-%m-%d')}.csv\"\n",
    "        \n",
    "        # Salva os dados no arquivo CSV\n",
    "        df.to_csv(file_name, index=False, sep=';', encoding='utf-8')\n",
    "        \n",
    "        print(f\"Arquivo salvo com sucesso em {file_name}\")\n",
    "    except Exception as e:\n",
    "        print(f\"Erro ao extrair dados: {e}\")\n",
    "    finally:\n",
    "        conn.close()\n",
    "\n",
    "# Agenda a execução diária às 8h da manhã\n",
    "schedule.every().day.at(\"08:00\").do(extract_and_save)\n",
    "\n",
    "print(\"Automação iniciada. Aguardando a execução diária às 8h...\")\n",
    "\n",
    "# Mantém o script em execução\n",
    "while True:\n",
    "    schedule.run_pending()\n",
    "    time.sleep(60)  # Aguarda um minuto antes de verificar novamente\n"
   ]
  }
 ],
 "metadata": {
  "kernelspec": {
   "display_name": "Python 3",
   "language": "python",
   "name": "python3"
  },
  "language_info": {
   "name": "python",
   "version": "3.12.5"
  }
 },
 "nbformat": 4,
 "nbformat_minor": 2
}
